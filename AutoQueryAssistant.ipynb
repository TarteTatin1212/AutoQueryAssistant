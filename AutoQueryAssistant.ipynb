{
  "nbformat": 4,
  "nbformat_minor": 0,
  "metadata": {
    "colab": {
      "provenance": [],
      "authorship_tag": "ABX9TyPaA5Hpr+1LjsD1WBrnrZ7s",
      "include_colab_link": true
    },
    "kernelspec": {
      "name": "python3",
      "display_name": "Python 3"
    },
    "language_info": {
      "name": "python"
    }
  },
  "cells": [
    {
      "cell_type": "markdown",
      "metadata": {
        "id": "view-in-github",
        "colab_type": "text"
      },
      "source": [
        "<a href=\"https://colab.research.google.com/github/TarteTatin1212/AutoQueryAssistant/blob/main/AutoQueryAssistant.ipynb\" target=\"_parent\"><img src=\"https://colab.research.google.com/assets/colab-badge.svg\" alt=\"Open In Colab\"/></a>"
      ]
    },
    {
      "cell_type": "markdown",
      "source": [
        "GPT-4の利用制限を超えないように、自動的に貯めておいた文言をChatGPTに聞けるプログラムを作れますか？"
      ],
      "metadata": {
        "id": "cAYLGF_RtHnu"
      }
    },
    {
      "cell_type": "markdown",
      "source": [
        "\n",
        "もちろんです。特定の質問や会話の断片をChatGPTに自動的に投げるプログラムを作ることは可能です。Pythonを使用した基本的な例を以下に示します。\n",
        "\n",
        "まず、あなたが使用するAPIとOpenAIのPythonクライアント（Pythonのライブラリ）が必要です。Pythonのライブラリである openai.ChatCompletion.create を使用して、対話形式のAPIを呼び出すことができます。このAPIはモデル（GPT-4）に質問を投げるために使用されます。\n",
        "\n",
        "以下に、基本的なスクリプトの例を示します。"
      ],
      "metadata": {
        "id": "S6E2-9M9tLbH"
      }
    },
    {
      "cell_type": "code",
      "execution_count": null,
      "metadata": {
        "id": "WCKb4_gjsyFA"
      },
      "outputs": [],
      "source": [
        "import openai\n",
        "\n",
        "openai.api_key = 'your-api-key'\n",
        "\n",
        "# 貯めておいた質問や会話の断片のリスト\n",
        "questions = [\"こんにちは、お元気ですか?\", \"明日の天気はどうですか?\", \"最新の科学技術ニュースを教えてください。\"]\n",
        "\n",
        "for question in questions:\n",
        "    response = openai.ChatCompletion.create(\n",
        "      model=\"gpt-4.5-turbo\",\n",
        "      messages=[\n",
        "            {\"role\": \"system\", \"content\": \"You are a helpful assistant.\"},\n",
        "            {\"role\": \"user\", \"content\": f\"{question}\"},\n",
        "        ]\n",
        "    )\n",
        "    \n",
        "    print(response['choices'][0]['message']['content'])\n"
      ]
    },
    {
      "cell_type": "markdown",
      "source": [
        "このスクリプトは、貯めておいた質問や会話の断片を順にGPT-4に投げ、各質問に対する回答をプリントします。\n",
        "\n",
        "ただし、注意すべき点は、この方法ではAPIの利用制限（例えば、1分あたりのリクエスト数や24時間のトークン数など）を超えることがあります。この制限はOpenAIによって設定されています。あなたのアカウントに設定された具体的な制限は、OpenAIのウェブサイトやアカウント設定をご確認ください。"
      ],
      "metadata": {
        "id": "D3nibJrMtN6o"
      }
    },
    {
      "cell_type": "code",
      "source": [
        "APIの利用制限を超えないように改良"
      ],
      "metadata": {
        "id": "ytBTm_QOtTQa"
      },
      "execution_count": null,
      "outputs": []
    },
    {
      "cell_type": "markdown",
      "source": [
        "もちろんです、そのためにはAPIリクエストの速度を制御するためのロジックが必要です。Pythonの time モジュールを使って待機時間を設けることで、APIの利用制限を超えないようにすることができます。\n",
        "\n",
        "以下にそのような機能を追加したスクリプトの例を示します："
      ],
      "metadata": {
        "id": "UiBs8F19wvny"
      }
    },
    {
      "cell_type": "code",
      "source": [
        "import openai\n",
        "import time\n",
        "\n",
        "openai.api_key = 'your-api-key'\n",
        "\n",
        "# 貯めておいた質問や会話の断片のリスト\n",
        "questions = [\"こんにちは、お元気ですか?\", \"明日の天気はどうですか?\", \"最新の科学技術ニュースを教えてください。\"]\n",
        "\n",
        "# APIのリクエストを送る間隔（秒）\n",
        "# これはOpenAIの利用制限に適合するように調整する必要があります\n",
        "wait_time = 1\n",
        "\n",
        "for question in questions:\n",
        "    response = openai.ChatCompletion.create(\n",
        "      model=\"gpt-4.5-turbo\",\n",
        "      messages=[\n",
        "            {\"role\": \"system\", \"content\": \"You are a helpful assistant.\"},\n",
        "            {\"role\": \"user\", \"content\": f\"{question}\"},\n",
        "        ]\n",
        "    )\n",
        "    \n",
        "    print(response['choices'][0]['message']['content'])\n",
        "    \n",
        "    # APIの利用制限を超えないように、次のリクエストまで待つ\n",
        "    time.sleep(wait_time)\n"
      ],
      "metadata": {
        "id": "SUxCaKl7wzB6"
      },
      "execution_count": null,
      "outputs": []
    },
    {
      "cell_type": "markdown",
      "source": [
        "このスクリプトは、各質問をGPT-4に投げた後に一定時間（この例では1秒）待機します。これにより、短期間に大量のリクエストを送ることによるAPIの利用制限の超過を防ぐことができます。\n",
        "\n",
        "ただし、この wait_time の値は、あなたのアカウントの利用制限によって異なる場合があります。具体的な制限は、OpenAIのウェブサイトやアカウント設定をご確認ください。必要に応じて、この値を調整してください。"
      ],
      "metadata": {
        "id": "9D1Rr5azw4zJ"
      }
    },
    {
      "cell_type": "markdown",
      "source": [],
      "metadata": {
        "id": "r2cUgVoDw8oe"
      }
    }
  ]
}